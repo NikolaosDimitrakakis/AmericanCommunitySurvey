{
 "cells": [
  {
   "cell_type": "markdown",
   "metadata": {
    "collapsed": true
   },
   "source": [
    "# Visualizations of American Community Survey\n",
    "\n",
    "We'll be working with a dataset on the job outcomes of students who graduated from college between 2010 and 2012. The original data on job outcomes was released by [American Community Survey](https://www.census.gov/programs-surveys/acs/), which conducts surveys and aggregates the data. FiveThirtyEight cleaned the dataset and released it on their [Github repo](https://github.com/fivethirtyeight/data/tree/master/college-majors).\n",
    "\n",
    "Each row in the dataset represents a different major in college and contains information on gender diversity, employment rates, median salaries, and more. Here are some of the columns in the dataset:\n",
    "\n",
    "1. Rank - Rank by median earnings (the dataset is ordered by this column).\n",
    "2. Major_code - Major code.\n",
    "3. Major - Major description.\n",
    "4. Major_category - Category of major.\n",
    "5. Total - Total number of people with major.\n",
    "6. Sample_size - Sample size (unweighted) of full-time.\n",
    "7. Men - Male graduates.\n",
    "8. Women - Female graduates.\n",
    "9. ShareWomen - Women as share of total.\n",
    "10. Employed - Number employed.\n",
    "11. Median - Median salary of full-time, year-round workers.\n",
    "12. Low_wage_jobs - Number in low-wage service jobs.\n",
    "13. Full_time - Number employed 35 hours or more.\n",
    "14. Part_time - Number employed less than 35 hours.\n",
    "\n",
    "Using visualizations, we can start to explore questions from the dataset like:\n",
    "\n",
    "1. Do students in more popular majors make more money? Do students that majored in subjects that were majority female make more money? Is there any link between the number of full-time employees and the median salary?\n",
    "\n",
    "2. What is the most common median salary? What is the unemployment rate? What percentage of grads are females?\n",
    "\n",
    "3. How many majors are predominantly male? Predominantly female?\n",
    "\n",
    "\n",
    "We'll explore how to do these and more while primarily working in pandas. Before we start creating data visualizations, let's import the libraries we need and remove rows containing null values."
   ]
  },
  {
   "cell_type": "markdown",
   "metadata": {},
   "source": [
    "## Visualizations of American Community Survey?\n",
    "\n",
    "\n",
    "<ul>\n",
    "<li><a href=\"#bu\">1. Business Understanding.</a></li>\n",
    "<li><a href=\"#du\">2. Data Understanding.</a></li>    \n",
    "<li><a href=\"#dp\">3. Prepare Data.</a></li>\n",
    "<li><a href=\"#md\">4. Model Data</a></li>\n",
    "<li><a href=\"#r\">5. Results</a></li>\n",
    "</ul>"
   ]
  },
  {
   "cell_type": "markdown",
   "metadata": {},
   "source": [
    "<a id='intro'></a>\n",
    "# 1. Business Understanding\n",
    "\n",
    "Hi All!\n",
    "Today We'll be working with a dataset on the job outcomes of students who graduated from college between 2010 and 2012\n",
    "\n",
    "\n",
    "Our main goal is to create the proper visualizations to answer the following questions:\n",
    "\n",
    "1. Do students in more popular majors make more money? Do students that majored in subjects that were majority female make more money? Is there any link between the number of full-time employees and the median salary?\n",
    "\n",
    "2. What is the most common median salary? What is the unemployment rate? What percentage of grads are females?\n",
    "\n",
    "3. How many majors are predominantly male? Predominantly female?"
   ]
  },
  {
   "cell_type": "markdown",
   "metadata": {},
   "source": [
    "<a id='du'></a>\n",
    "# 2. Data Understanding\n",
    "\n",
    "Here we used the FiveThirtyEight cleaned dataset, original data on job outcomes was released by American Community Survey, to attempt to answer our questions of interest.\n",
    "Each row in the dataset represents a different major in college and contains information on gender diversity, employment rates, median salaries, and more. Here are some of the columns in the dataset:\n",
    "\n",
    "1. Rank - Rank by median earnings (the dataset is ordered by this column).\n",
    "2. Major_code - Major code.\n",
    "3. Major - Major description.\n",
    "4. Major_category - Category of major.\n",
    "5. Total - Total number of people with major.\n",
    "6. Sample_size - Sample size (unweighted) of full-time.\n",
    "7. Men - Male graduates.\n",
    "8. Women - Female graduates.\n",
    "9. ShareWomen - Women as share of total.\n",
    "10. Employed - Number employed.\n",
    "11. Median - Median salary of full-time, year-round workers.\n",
    "12. Low_wage_jobs - Number in low-wage service jobs.\n",
    "13. Full_time - Number employed 35 hours or more.\n",
    "14. Part_time - Number employed less than 35 hours."
   ]
  },
  {
   "cell_type": "markdown",
   "metadata": {},
   "source": [
    "<a id='dp'></a>\n",
    "# 3. Prepare Data\n",
    "\n",
    "In this notebook, we don't need to prepare our data since the FiveThirtyEight cleaned the dataset and released it on their [Github repo](https://github.com/fivethirtyeight/data/tree/master/college-majors). The only thing we will do is to remove rows containing null values.\n",
    "Credits to them!"
   ]
  },
  {
   "cell_type": "markdown",
   "metadata": {},
   "source": [
    "<a id='md'></a>\n",
    "# 4. Model Data"
   ]
  },
  {
   "cell_type": "code",
   "execution_count": 52,
   "metadata": {},
   "outputs": [],
   "source": [
    "# Import libraries\n",
    "import pandas as pd\n",
    "import numpy as np\n",
    "import matplotlib.pyplot as plt\n",
    "%matplotlib inline"
   ]
  },
  {
   "cell_type": "code",
   "execution_count": 53,
   "metadata": {},
   "outputs": [
    {
     "data": {
      "text/plain": [
       "Rank                                        1\n",
       "Major_code                               2419\n",
       "Major                   PETROLEUM ENGINEERING\n",
       "Total                                    2339\n",
       "Men                                      2057\n",
       "Women                                     282\n",
       "Major_category                    Engineering\n",
       "ShareWomen                           0.120564\n",
       "Sample_size                                36\n",
       "Employed                                 1976\n",
       "Full_time                                1849\n",
       "Part_time                                 270\n",
       "Full_time_year_round                     1207\n",
       "Unemployed                                 37\n",
       "Unemployment_rate                   0.0183805\n",
       "Median                                 110000\n",
       "P25th                                   95000\n",
       "P75th                                  125000\n",
       "College_jobs                             1534\n",
       "Non_college_jobs                          364\n",
       "Low_wage_jobs                             193\n",
       "Name: 0, dtype: object"
      ]
     },
     "execution_count": 53,
     "metadata": {},
     "output_type": "execute_result"
    }
   ],
   "source": [
    "# Read csv to pandas\n",
    "recent_grads = pd.read_csv(r'C:\\Users\\nik\\recent-grads.csv')\n",
    "recent_grads.iloc[0]"
   ]
  },
  {
   "cell_type": "code",
   "execution_count": 54,
   "metadata": {},
   "outputs": [
    {
     "data": {
      "text/html": [
       "<div>\n",
       "<style scoped>\n",
       "    .dataframe tbody tr th:only-of-type {\n",
       "        vertical-align: middle;\n",
       "    }\n",
       "\n",
       "    .dataframe tbody tr th {\n",
       "        vertical-align: top;\n",
       "    }\n",
       "\n",
       "    .dataframe thead th {\n",
       "        text-align: right;\n",
       "    }\n",
       "</style>\n",
       "<table border=\"1\" class=\"dataframe\">\n",
       "  <thead>\n",
       "    <tr style=\"text-align: right;\">\n",
       "      <th></th>\n",
       "      <th>Rank</th>\n",
       "      <th>Major_code</th>\n",
       "      <th>Major</th>\n",
       "      <th>Total</th>\n",
       "      <th>Men</th>\n",
       "      <th>Women</th>\n",
       "      <th>Major_category</th>\n",
       "      <th>ShareWomen</th>\n",
       "      <th>Sample_size</th>\n",
       "      <th>Employed</th>\n",
       "      <th>...</th>\n",
       "      <th>Part_time</th>\n",
       "      <th>Full_time_year_round</th>\n",
       "      <th>Unemployed</th>\n",
       "      <th>Unemployment_rate</th>\n",
       "      <th>Median</th>\n",
       "      <th>P25th</th>\n",
       "      <th>P75th</th>\n",
       "      <th>College_jobs</th>\n",
       "      <th>Non_college_jobs</th>\n",
       "      <th>Low_wage_jobs</th>\n",
       "    </tr>\n",
       "  </thead>\n",
       "  <tbody>\n",
       "    <tr>\n",
       "      <th>0</th>\n",
       "      <td>1</td>\n",
       "      <td>2419.0</td>\n",
       "      <td>PETROLEUM ENGINEERING</td>\n",
       "      <td>2339.0</td>\n",
       "      <td>2057.0</td>\n",
       "      <td>282.0</td>\n",
       "      <td>Engineering</td>\n",
       "      <td>0.120564</td>\n",
       "      <td>36.0</td>\n",
       "      <td>1976.0</td>\n",
       "      <td>...</td>\n",
       "      <td>270.0</td>\n",
       "      <td>1207.0</td>\n",
       "      <td>37.0</td>\n",
       "      <td>0.018381</td>\n",
       "      <td>110000.0</td>\n",
       "      <td>95000.0</td>\n",
       "      <td>125000.0</td>\n",
       "      <td>1534.0</td>\n",
       "      <td>364.0</td>\n",
       "      <td>193.0</td>\n",
       "    </tr>\n",
       "    <tr>\n",
       "      <th>1</th>\n",
       "      <td>2</td>\n",
       "      <td>2416.0</td>\n",
       "      <td>MINING AND MINERAL ENGINEERING</td>\n",
       "      <td>756.0</td>\n",
       "      <td>679.0</td>\n",
       "      <td>77.0</td>\n",
       "      <td>Engineering</td>\n",
       "      <td>0.101852</td>\n",
       "      <td>7.0</td>\n",
       "      <td>640.0</td>\n",
       "      <td>...</td>\n",
       "      <td>170.0</td>\n",
       "      <td>388.0</td>\n",
       "      <td>85.0</td>\n",
       "      <td>0.117241</td>\n",
       "      <td>75000.0</td>\n",
       "      <td>55000.0</td>\n",
       "      <td>90000.0</td>\n",
       "      <td>350.0</td>\n",
       "      <td>257.0</td>\n",
       "      <td>50.0</td>\n",
       "    </tr>\n",
       "    <tr>\n",
       "      <th>2</th>\n",
       "      <td>3</td>\n",
       "      <td>2415.0</td>\n",
       "      <td>METALLURGICAL ENGINEERING</td>\n",
       "      <td>856.0</td>\n",
       "      <td>725.0</td>\n",
       "      <td>131.0</td>\n",
       "      <td>Engineering</td>\n",
       "      <td>0.153037</td>\n",
       "      <td>3.0</td>\n",
       "      <td>648.0</td>\n",
       "      <td>...</td>\n",
       "      <td>133.0</td>\n",
       "      <td>340.0</td>\n",
       "      <td>16.0</td>\n",
       "      <td>0.024096</td>\n",
       "      <td>73000.0</td>\n",
       "      <td>50000.0</td>\n",
       "      <td>105000.0</td>\n",
       "      <td>456.0</td>\n",
       "      <td>176.0</td>\n",
       "      <td>0.0</td>\n",
       "    </tr>\n",
       "    <tr>\n",
       "      <th>3</th>\n",
       "      <td>4</td>\n",
       "      <td>2417.0</td>\n",
       "      <td>NAVAL ARCHITECTURE AND MARINE ENGINEERING</td>\n",
       "      <td>1258.0</td>\n",
       "      <td>1123.0</td>\n",
       "      <td>135.0</td>\n",
       "      <td>Engineering</td>\n",
       "      <td>0.107313</td>\n",
       "      <td>16.0</td>\n",
       "      <td>758.0</td>\n",
       "      <td>...</td>\n",
       "      <td>150.0</td>\n",
       "      <td>692.0</td>\n",
       "      <td>40.0</td>\n",
       "      <td>0.050125</td>\n",
       "      <td>70000.0</td>\n",
       "      <td>43000.0</td>\n",
       "      <td>80000.0</td>\n",
       "      <td>529.0</td>\n",
       "      <td>102.0</td>\n",
       "      <td>0.0</td>\n",
       "    </tr>\n",
       "    <tr>\n",
       "      <th>4</th>\n",
       "      <td>5</td>\n",
       "      <td>2405.0</td>\n",
       "      <td>CHEMICAL ENGINEERING</td>\n",
       "      <td>32260.0</td>\n",
       "      <td>21239.0</td>\n",
       "      <td>11021.0</td>\n",
       "      <td>Engineering</td>\n",
       "      <td>0.341631</td>\n",
       "      <td>289.0</td>\n",
       "      <td>25694.0</td>\n",
       "      <td>...</td>\n",
       "      <td>5180.0</td>\n",
       "      <td>16697.0</td>\n",
       "      <td>1672.0</td>\n",
       "      <td>0.061098</td>\n",
       "      <td>65000.0</td>\n",
       "      <td>50000.0</td>\n",
       "      <td>75000.0</td>\n",
       "      <td>18314.0</td>\n",
       "      <td>4440.0</td>\n",
       "      <td>972.0</td>\n",
       "    </tr>\n",
       "  </tbody>\n",
       "</table>\n",
       "<p>5 rows × 21 columns</p>\n",
       "</div>"
      ],
      "text/plain": [
       "  Rank  Major_code                                      Major    Total  \\\n",
       "0    1      2419.0                      PETROLEUM ENGINEERING   2339.0   \n",
       "1    2      2416.0             MINING AND MINERAL ENGINEERING    756.0   \n",
       "2    3      2415.0                  METALLURGICAL ENGINEERING    856.0   \n",
       "3    4      2417.0  NAVAL ARCHITECTURE AND MARINE ENGINEERING   1258.0   \n",
       "4    5      2405.0                       CHEMICAL ENGINEERING  32260.0   \n",
       "\n",
       "       Men    Women Major_category  ShareWomen  Sample_size  Employed  ...  \\\n",
       "0   2057.0    282.0    Engineering    0.120564         36.0    1976.0  ...   \n",
       "1    679.0     77.0    Engineering    0.101852          7.0     640.0  ...   \n",
       "2    725.0    131.0    Engineering    0.153037          3.0     648.0  ...   \n",
       "3   1123.0    135.0    Engineering    0.107313         16.0     758.0  ...   \n",
       "4  21239.0  11021.0    Engineering    0.341631        289.0   25694.0  ...   \n",
       "\n",
       "   Part_time  Full_time_year_round  Unemployed  Unemployment_rate    Median  \\\n",
       "0      270.0                1207.0        37.0           0.018381  110000.0   \n",
       "1      170.0                 388.0        85.0           0.117241   75000.0   \n",
       "2      133.0                 340.0        16.0           0.024096   73000.0   \n",
       "3      150.0                 692.0        40.0           0.050125   70000.0   \n",
       "4     5180.0               16697.0      1672.0           0.061098   65000.0   \n",
       "\n",
       "     P25th     P75th  College_jobs  Non_college_jobs  Low_wage_jobs  \n",
       "0  95000.0  125000.0        1534.0             364.0          193.0  \n",
       "1  55000.0   90000.0         350.0             257.0           50.0  \n",
       "2  50000.0  105000.0         456.0             176.0            0.0  \n",
       "3  43000.0   80000.0         529.0             102.0            0.0  \n",
       "4  50000.0   75000.0       18314.0            4440.0          972.0  \n",
       "\n",
       "[5 rows x 21 columns]"
      ]
     },
     "execution_count": 54,
     "metadata": {},
     "output_type": "execute_result"
    }
   ],
   "source": [
    "recent_grads.head()"
   ]
  },
  {
   "cell_type": "code",
   "execution_count": 55,
   "metadata": {
    "scrolled": true
   },
   "outputs": [
    {
     "data": {
      "text/html": [
       "<div>\n",
       "<style scoped>\n",
       "    .dataframe tbody tr th:only-of-type {\n",
       "        vertical-align: middle;\n",
       "    }\n",
       "\n",
       "    .dataframe tbody tr th {\n",
       "        vertical-align: top;\n",
       "    }\n",
       "\n",
       "    .dataframe thead th {\n",
       "        text-align: right;\n",
       "    }\n",
       "</style>\n",
       "<table border=\"1\" class=\"dataframe\">\n",
       "  <thead>\n",
       "    <tr style=\"text-align: right;\">\n",
       "      <th></th>\n",
       "      <th>Rank</th>\n",
       "      <th>Major_code</th>\n",
       "      <th>Major</th>\n",
       "      <th>Total</th>\n",
       "      <th>Men</th>\n",
       "      <th>Women</th>\n",
       "      <th>Major_category</th>\n",
       "      <th>ShareWomen</th>\n",
       "      <th>Sample_size</th>\n",
       "      <th>Employed</th>\n",
       "      <th>...</th>\n",
       "      <th>Part_time</th>\n",
       "      <th>Full_time_year_round</th>\n",
       "      <th>Unemployed</th>\n",
       "      <th>Unemployment_rate</th>\n",
       "      <th>Median</th>\n",
       "      <th>P25th</th>\n",
       "      <th>P75th</th>\n",
       "      <th>College_jobs</th>\n",
       "      <th>Non_college_jobs</th>\n",
       "      <th>Low_wage_jobs</th>\n",
       "    </tr>\n",
       "  </thead>\n",
       "  <tbody>\n",
       "    <tr>\n",
       "      <th>168</th>\n",
       "      <td>169</td>\n",
       "      <td>3609.0</td>\n",
       "      <td>ZOOLOGY</td>\n",
       "      <td>8409.0</td>\n",
       "      <td>3050.0</td>\n",
       "      <td>5359.0</td>\n",
       "      <td>Biology &amp; Life Science</td>\n",
       "      <td>0.637293</td>\n",
       "      <td>47.0</td>\n",
       "      <td>6259.0</td>\n",
       "      <td>...</td>\n",
       "      <td>2190.0</td>\n",
       "      <td>3602.0</td>\n",
       "      <td>304.0</td>\n",
       "      <td>0.046320</td>\n",
       "      <td>26000.0</td>\n",
       "      <td>20000.0</td>\n",
       "      <td>39000.0</td>\n",
       "      <td>2771.0</td>\n",
       "      <td>2947.0</td>\n",
       "      <td>743.0</td>\n",
       "    </tr>\n",
       "    <tr>\n",
       "      <th>169</th>\n",
       "      <td>170</td>\n",
       "      <td>5201.0</td>\n",
       "      <td>EDUCATIONAL PSYCHOLOGY</td>\n",
       "      <td>2854.0</td>\n",
       "      <td>522.0</td>\n",
       "      <td>2332.0</td>\n",
       "      <td>Psychology &amp; Social Work</td>\n",
       "      <td>0.817099</td>\n",
       "      <td>7.0</td>\n",
       "      <td>2125.0</td>\n",
       "      <td>...</td>\n",
       "      <td>572.0</td>\n",
       "      <td>1211.0</td>\n",
       "      <td>148.0</td>\n",
       "      <td>0.065112</td>\n",
       "      <td>25000.0</td>\n",
       "      <td>24000.0</td>\n",
       "      <td>34000.0</td>\n",
       "      <td>1488.0</td>\n",
       "      <td>615.0</td>\n",
       "      <td>82.0</td>\n",
       "    </tr>\n",
       "    <tr>\n",
       "      <th>170</th>\n",
       "      <td>171</td>\n",
       "      <td>5202.0</td>\n",
       "      <td>CLINICAL PSYCHOLOGY</td>\n",
       "      <td>2838.0</td>\n",
       "      <td>568.0</td>\n",
       "      <td>2270.0</td>\n",
       "      <td>Psychology &amp; Social Work</td>\n",
       "      <td>0.799859</td>\n",
       "      <td>13.0</td>\n",
       "      <td>2101.0</td>\n",
       "      <td>...</td>\n",
       "      <td>648.0</td>\n",
       "      <td>1293.0</td>\n",
       "      <td>368.0</td>\n",
       "      <td>0.149048</td>\n",
       "      <td>25000.0</td>\n",
       "      <td>25000.0</td>\n",
       "      <td>40000.0</td>\n",
       "      <td>986.0</td>\n",
       "      <td>870.0</td>\n",
       "      <td>622.0</td>\n",
       "    </tr>\n",
       "    <tr>\n",
       "      <th>171</th>\n",
       "      <td>172</td>\n",
       "      <td>5203.0</td>\n",
       "      <td>COUNSELING PSYCHOLOGY</td>\n",
       "      <td>4626.0</td>\n",
       "      <td>931.0</td>\n",
       "      <td>3695.0</td>\n",
       "      <td>Psychology &amp; Social Work</td>\n",
       "      <td>0.798746</td>\n",
       "      <td>21.0</td>\n",
       "      <td>3777.0</td>\n",
       "      <td>...</td>\n",
       "      <td>965.0</td>\n",
       "      <td>2738.0</td>\n",
       "      <td>214.0</td>\n",
       "      <td>0.053621</td>\n",
       "      <td>23400.0</td>\n",
       "      <td>19200.0</td>\n",
       "      <td>26000.0</td>\n",
       "      <td>2403.0</td>\n",
       "      <td>1245.0</td>\n",
       "      <td>308.0</td>\n",
       "    </tr>\n",
       "    <tr>\n",
       "      <th>172</th>\n",
       "      <td>173</td>\n",
       "      <td>3501.0</td>\n",
       "      <td>LIBRARY SCIENCE</td>\n",
       "      <td>1098.0</td>\n",
       "      <td>134.0</td>\n",
       "      <td>964.0</td>\n",
       "      <td>Education</td>\n",
       "      <td>0.877960</td>\n",
       "      <td>2.0</td>\n",
       "      <td>742.0</td>\n",
       "      <td>...</td>\n",
       "      <td>237.0</td>\n",
       "      <td>410.0</td>\n",
       "      <td>87.0</td>\n",
       "      <td>0.104946</td>\n",
       "      <td>22000.0</td>\n",
       "      <td>20000.0</td>\n",
       "      <td>22000.0</td>\n",
       "      <td>288.0</td>\n",
       "      <td>338.0</td>\n",
       "      <td>192.0</td>\n",
       "    </tr>\n",
       "  </tbody>\n",
       "</table>\n",
       "<p>5 rows × 21 columns</p>\n",
       "</div>"
      ],
      "text/plain": [
       "    Rank  Major_code                   Major   Total     Men   Women  \\\n",
       "168  169      3609.0                 ZOOLOGY  8409.0  3050.0  5359.0   \n",
       "169  170      5201.0  EDUCATIONAL PSYCHOLOGY  2854.0   522.0  2332.0   \n",
       "170  171      5202.0     CLINICAL PSYCHOLOGY  2838.0   568.0  2270.0   \n",
       "171  172      5203.0   COUNSELING PSYCHOLOGY  4626.0   931.0  3695.0   \n",
       "172  173      3501.0         LIBRARY SCIENCE  1098.0   134.0   964.0   \n",
       "\n",
       "               Major_category  ShareWomen  Sample_size  Employed  ...  \\\n",
       "168    Biology & Life Science    0.637293         47.0    6259.0  ...   \n",
       "169  Psychology & Social Work    0.817099          7.0    2125.0  ...   \n",
       "170  Psychology & Social Work    0.799859         13.0    2101.0  ...   \n",
       "171  Psychology & Social Work    0.798746         21.0    3777.0  ...   \n",
       "172                 Education    0.877960          2.0     742.0  ...   \n",
       "\n",
       "     Part_time  Full_time_year_round  Unemployed  Unemployment_rate   Median  \\\n",
       "168     2190.0                3602.0       304.0           0.046320  26000.0   \n",
       "169      572.0                1211.0       148.0           0.065112  25000.0   \n",
       "170      648.0                1293.0       368.0           0.149048  25000.0   \n",
       "171      965.0                2738.0       214.0           0.053621  23400.0   \n",
       "172      237.0                 410.0        87.0           0.104946  22000.0   \n",
       "\n",
       "       P25th    P75th  College_jobs  Non_college_jobs  Low_wage_jobs  \n",
       "168  20000.0  39000.0        2771.0            2947.0          743.0  \n",
       "169  24000.0  34000.0        1488.0             615.0           82.0  \n",
       "170  25000.0  40000.0         986.0             870.0          622.0  \n",
       "171  19200.0  26000.0        2403.0            1245.0          308.0  \n",
       "172  20000.0  22000.0         288.0             338.0          192.0  \n",
       "\n",
       "[5 rows x 21 columns]"
      ]
     },
     "execution_count": 55,
     "metadata": {},
     "output_type": "execute_result"
    }
   ],
   "source": [
    "recent_grads.tail()"
   ]
  },
  {
   "cell_type": "code",
   "execution_count": 56,
   "metadata": {},
   "outputs": [
    {
     "name": "stdout",
     "output_type": "stream",
     "text": [
      "<class 'pandas.core.frame.DataFrame'>\n",
      "RangeIndex: 173 entries, 0 to 172\n",
      "Data columns (total 21 columns):\n",
      " #   Column                Non-Null Count  Dtype  \n",
      "---  ------                --------------  -----  \n",
      " 0   Rank                  173 non-null    object \n",
      " 1   Major_code            171 non-null    float64\n",
      " 2   Major                 171 non-null    object \n",
      " 3   Total                 170 non-null    float64\n",
      " 4   Men                   170 non-null    float64\n",
      " 5   Women                 170 non-null    float64\n",
      " 6   Major_category        171 non-null    object \n",
      " 7   ShareWomen            170 non-null    float64\n",
      " 8   Sample_size           171 non-null    float64\n",
      " 9   Employed              171 non-null    float64\n",
      " 10  Full_time             171 non-null    float64\n",
      " 11  Part_time             171 non-null    float64\n",
      " 12  Full_time_year_round  171 non-null    float64\n",
      " 13  Unemployed            171 non-null    float64\n",
      " 14  Unemployment_rate     171 non-null    float64\n",
      " 15  Median                171 non-null    float64\n",
      " 16  P25th                 171 non-null    float64\n",
      " 17  P75th                 171 non-null    float64\n",
      " 18  College_jobs          171 non-null    float64\n",
      " 19  Non_college_jobs      171 non-null    float64\n",
      " 20  Low_wage_jobs         171 non-null    float64\n",
      "dtypes: float64(18), object(3)\n",
      "memory usage: 28.5+ KB\n"
     ]
    }
   ],
   "source": [
    "recent_grads.info()"
   ]
  },
  {
   "cell_type": "code",
   "execution_count": 57,
   "metadata": {
    "scrolled": true
   },
   "outputs": [
    {
     "data": {
      "text/html": [
       "<div>\n",
       "<style scoped>\n",
       "    .dataframe tbody tr th:only-of-type {\n",
       "        vertical-align: middle;\n",
       "    }\n",
       "\n",
       "    .dataframe tbody tr th {\n",
       "        vertical-align: top;\n",
       "    }\n",
       "\n",
       "    .dataframe thead th {\n",
       "        text-align: right;\n",
       "    }\n",
       "</style>\n",
       "<table border=\"1\" class=\"dataframe\">\n",
       "  <thead>\n",
       "    <tr style=\"text-align: right;\">\n",
       "      <th></th>\n",
       "      <th>Major_code</th>\n",
       "      <th>Total</th>\n",
       "      <th>Men</th>\n",
       "      <th>Women</th>\n",
       "      <th>ShareWomen</th>\n",
       "      <th>Sample_size</th>\n",
       "      <th>Employed</th>\n",
       "      <th>Full_time</th>\n",
       "      <th>Part_time</th>\n",
       "      <th>Full_time_year_round</th>\n",
       "      <th>Unemployed</th>\n",
       "      <th>Unemployment_rate</th>\n",
       "      <th>Median</th>\n",
       "      <th>P25th</th>\n",
       "      <th>P75th</th>\n",
       "      <th>College_jobs</th>\n",
       "      <th>Non_college_jobs</th>\n",
       "      <th>Low_wage_jobs</th>\n",
       "    </tr>\n",
       "  </thead>\n",
       "  <tbody>\n",
       "    <tr>\n",
       "      <th>count</th>\n",
       "      <td>171.000000</td>\n",
       "      <td>170.000000</td>\n",
       "      <td>170.000000</td>\n",
       "      <td>170.000000</td>\n",
       "      <td>170.000000</td>\n",
       "      <td>171.000000</td>\n",
       "      <td>171.000000</td>\n",
       "      <td>171.000000</td>\n",
       "      <td>171.000000</td>\n",
       "      <td>171.000000</td>\n",
       "      <td>171.000000</td>\n",
       "      <td>171.000000</td>\n",
       "      <td>171.000000</td>\n",
       "      <td>171.000000</td>\n",
       "      <td>171.000000</td>\n",
       "      <td>171.000000</td>\n",
       "      <td>171.000000</td>\n",
       "      <td>171.000000</td>\n",
       "    </tr>\n",
       "    <tr>\n",
       "      <th>mean</th>\n",
       "      <td>3862.017544</td>\n",
       "      <td>39806.488235</td>\n",
       "      <td>16906.052941</td>\n",
       "      <td>22900.435294</td>\n",
       "      <td>0.522585</td>\n",
       "      <td>359.847953</td>\n",
       "      <td>31534.871345</td>\n",
       "      <td>26313.573099</td>\n",
       "      <td>8930.637427</td>\n",
       "      <td>19908.005848</td>\n",
       "      <td>2443.415205</td>\n",
       "      <td>0.068398</td>\n",
       "      <td>40127.485380</td>\n",
       "      <td>29492.690058</td>\n",
       "      <td>51523.391813</td>\n",
       "      <td>12464.520468</td>\n",
       "      <td>13421.543860</td>\n",
       "      <td>3902.953216</td>\n",
       "    </tr>\n",
       "    <tr>\n",
       "      <th>std</th>\n",
       "      <td>1689.203117</td>\n",
       "      <td>63728.892660</td>\n",
       "      <td>28237.200116</td>\n",
       "      <td>41232.023707</td>\n",
       "      <td>0.230831</td>\n",
       "      <td>620.994383</td>\n",
       "      <td>50872.226512</td>\n",
       "      <td>43039.473942</td>\n",
       "      <td>14705.561797</td>\n",
       "      <td>33295.869478</td>\n",
       "      <td>4129.201251</td>\n",
       "      <td>0.030362</td>\n",
       "      <td>11527.925383</td>\n",
       "      <td>9181.001279</td>\n",
       "      <td>14984.958426</td>\n",
       "      <td>21383.878760</td>\n",
       "      <td>23895.012611</td>\n",
       "      <td>6973.699771</td>\n",
       "    </tr>\n",
       "    <tr>\n",
       "      <th>min</th>\n",
       "      <td>1100.000000</td>\n",
       "      <td>124.000000</td>\n",
       "      <td>119.000000</td>\n",
       "      <td>0.000000</td>\n",
       "      <td>0.000000</td>\n",
       "      <td>2.000000</td>\n",
       "      <td>0.000000</td>\n",
       "      <td>111.000000</td>\n",
       "      <td>0.000000</td>\n",
       "      <td>111.000000</td>\n",
       "      <td>0.000000</td>\n",
       "      <td>0.000000</td>\n",
       "      <td>22000.000000</td>\n",
       "      <td>18500.000000</td>\n",
       "      <td>22000.000000</td>\n",
       "      <td>0.000000</td>\n",
       "      <td>0.000000</td>\n",
       "      <td>0.000000</td>\n",
       "    </tr>\n",
       "    <tr>\n",
       "      <th>25%</th>\n",
       "      <td>2402.500000</td>\n",
       "      <td>4670.750000</td>\n",
       "      <td>2352.750000</td>\n",
       "      <td>1878.750000</td>\n",
       "      <td>0.339959</td>\n",
       "      <td>43.500000</td>\n",
       "      <td>3815.500000</td>\n",
       "      <td>3197.000000</td>\n",
       "      <td>1053.500000</td>\n",
       "      <td>2537.500000</td>\n",
       "      <td>308.000000</td>\n",
       "      <td>0.050584</td>\n",
       "      <td>33000.000000</td>\n",
       "      <td>24000.000000</td>\n",
       "      <td>41500.000000</td>\n",
       "      <td>1788.000000</td>\n",
       "      <td>1593.000000</td>\n",
       "      <td>347.500000</td>\n",
       "    </tr>\n",
       "    <tr>\n",
       "      <th>50%</th>\n",
       "      <td>3607.000000</td>\n",
       "      <td>15191.000000</td>\n",
       "      <td>5667.000000</td>\n",
       "      <td>8604.000000</td>\n",
       "      <td>0.534024</td>\n",
       "      <td>132.000000</td>\n",
       "      <td>12266.000000</td>\n",
       "      <td>10099.000000</td>\n",
       "      <td>3366.000000</td>\n",
       "      <td>7460.000000</td>\n",
       "      <td>917.000000</td>\n",
       "      <td>0.067961</td>\n",
       "      <td>36000.000000</td>\n",
       "      <td>27000.000000</td>\n",
       "      <td>47000.000000</td>\n",
       "      <td>4545.000000</td>\n",
       "      <td>4612.000000</td>\n",
       "      <td>1246.000000</td>\n",
       "    </tr>\n",
       "    <tr>\n",
       "      <th>75%</th>\n",
       "      <td>5502.500000</td>\n",
       "      <td>39041.250000</td>\n",
       "      <td>15013.000000</td>\n",
       "      <td>22749.250000</td>\n",
       "      <td>0.701740</td>\n",
       "      <td>340.000000</td>\n",
       "      <td>31969.500000</td>\n",
       "      <td>25747.500000</td>\n",
       "      <td>10014.000000</td>\n",
       "      <td>18458.500000</td>\n",
       "      <td>2401.000000</td>\n",
       "      <td>0.087640</td>\n",
       "      <td>45000.000000</td>\n",
       "      <td>33000.000000</td>\n",
       "      <td>60000.000000</td>\n",
       "      <td>14747.500000</td>\n",
       "      <td>11800.500000</td>\n",
       "      <td>3526.000000</td>\n",
       "    </tr>\n",
       "    <tr>\n",
       "      <th>max</th>\n",
       "      <td>6403.000000</td>\n",
       "      <td>393735.000000</td>\n",
       "      <td>173809.000000</td>\n",
       "      <td>307087.000000</td>\n",
       "      <td>0.968954</td>\n",
       "      <td>4212.000000</td>\n",
       "      <td>307933.000000</td>\n",
       "      <td>251540.000000</td>\n",
       "      <td>115172.000000</td>\n",
       "      <td>199897.000000</td>\n",
       "      <td>28169.000000</td>\n",
       "      <td>0.177226</td>\n",
       "      <td>110000.000000</td>\n",
       "      <td>95000.000000</td>\n",
       "      <td>125000.000000</td>\n",
       "      <td>151643.000000</td>\n",
       "      <td>148395.000000</td>\n",
       "      <td>48207.000000</td>\n",
       "    </tr>\n",
       "  </tbody>\n",
       "</table>\n",
       "</div>"
      ],
      "text/plain": [
       "        Major_code          Total            Men          Women  ShareWomen  \\\n",
       "count   171.000000     170.000000     170.000000     170.000000  170.000000   \n",
       "mean   3862.017544   39806.488235   16906.052941   22900.435294    0.522585   \n",
       "std    1689.203117   63728.892660   28237.200116   41232.023707    0.230831   \n",
       "min    1100.000000     124.000000     119.000000       0.000000    0.000000   \n",
       "25%    2402.500000    4670.750000    2352.750000    1878.750000    0.339959   \n",
       "50%    3607.000000   15191.000000    5667.000000    8604.000000    0.534024   \n",
       "75%    5502.500000   39041.250000   15013.000000   22749.250000    0.701740   \n",
       "max    6403.000000  393735.000000  173809.000000  307087.000000    0.968954   \n",
       "\n",
       "       Sample_size       Employed      Full_time      Part_time  \\\n",
       "count   171.000000     171.000000     171.000000     171.000000   \n",
       "mean    359.847953   31534.871345   26313.573099    8930.637427   \n",
       "std     620.994383   50872.226512   43039.473942   14705.561797   \n",
       "min       2.000000       0.000000     111.000000       0.000000   \n",
       "25%      43.500000    3815.500000    3197.000000    1053.500000   \n",
       "50%     132.000000   12266.000000   10099.000000    3366.000000   \n",
       "75%     340.000000   31969.500000   25747.500000   10014.000000   \n",
       "max    4212.000000  307933.000000  251540.000000  115172.000000   \n",
       "\n",
       "       Full_time_year_round    Unemployed  Unemployment_rate         Median  \\\n",
       "count            171.000000    171.000000         171.000000     171.000000   \n",
       "mean           19908.005848   2443.415205           0.068398   40127.485380   \n",
       "std            33295.869478   4129.201251           0.030362   11527.925383   \n",
       "min              111.000000      0.000000           0.000000   22000.000000   \n",
       "25%             2537.500000    308.000000           0.050584   33000.000000   \n",
       "50%             7460.000000    917.000000           0.067961   36000.000000   \n",
       "75%            18458.500000   2401.000000           0.087640   45000.000000   \n",
       "max           199897.000000  28169.000000           0.177226  110000.000000   \n",
       "\n",
       "              P25th          P75th   College_jobs  Non_college_jobs  \\\n",
       "count    171.000000     171.000000     171.000000        171.000000   \n",
       "mean   29492.690058   51523.391813   12464.520468      13421.543860   \n",
       "std     9181.001279   14984.958426   21383.878760      23895.012611   \n",
       "min    18500.000000   22000.000000       0.000000          0.000000   \n",
       "25%    24000.000000   41500.000000    1788.000000       1593.000000   \n",
       "50%    27000.000000   47000.000000    4545.000000       4612.000000   \n",
       "75%    33000.000000   60000.000000   14747.500000      11800.500000   \n",
       "max    95000.000000  125000.000000  151643.000000     148395.000000   \n",
       "\n",
       "       Low_wage_jobs  \n",
       "count     171.000000  \n",
       "mean     3902.953216  \n",
       "std      6973.699771  \n",
       "min         0.000000  \n",
       "25%       347.500000  \n",
       "50%      1246.000000  \n",
       "75%      3526.000000  \n",
       "max     48207.000000  "
      ]
     },
     "execution_count": 57,
     "metadata": {},
     "output_type": "execute_result"
    }
   ],
   "source": [
    "# Descriptive Statistics\n",
    "recent_grads.describe()"
   ]
  },
  {
   "cell_type": "markdown",
   "metadata": {},
   "source": [
    "We are going to drop all rows with missing values because Matplotlib expects that columns of values we pass in have matching lengths and missing values will cause matplotlib to throw errors."
   ]
  },
  {
   "cell_type": "code",
   "execution_count": 58,
   "metadata": {},
   "outputs": [
    {
     "data": {
      "text/plain": [
       "173"
      ]
     },
     "execution_count": 58,
     "metadata": {},
     "output_type": "execute_result"
    }
   ],
   "source": [
    "# Count the rows\n",
    "row_data_count = recent_grads.shape[0]\n",
    "row_data_count"
   ]
  },
  {
   "cell_type": "code",
   "execution_count": 59,
   "metadata": {},
   "outputs": [],
   "source": [
    "# Drop N/Ascatter plot\n",
    "recent_grads = recent_grads.dropna()"
   ]
  },
  {
   "cell_type": "code",
   "execution_count": 60,
   "metadata": {},
   "outputs": [
    {
     "data": {
      "text/plain": [
       "170"
      ]
     },
     "execution_count": 60,
     "metadata": {},
     "output_type": "execute_result"
    }
   ],
   "source": [
    "cleaned_data_count = recent_grads.shape[0]\n",
    "cleaned_data_count"
   ]
  },
  {
   "cell_type": "markdown",
   "metadata": {},
   "source": [
    "We notice that only one row contained missing values and it was dropped"
   ]
  },
  {
   "cell_type": "markdown",
   "metadata": {},
   "source": [
    "## Do students in more popular majors make more money?\n",
    "\n",
    "We will generate scatter plots in seperate notebook cells to explore the following relations:\n",
    "1. Sample_size and Median\n",
    "2. Sample_size and Unemployment_rate\n",
    "3. Full_time and Median\n",
    "4. ShareWomen and Unemployment_rate\n",
    "5. Men and Median\n",
    "6. Women and Median"
   ]
  },
  {
   "cell_type": "code",
   "execution_count": 61,
   "metadata": {},
   "outputs": [
    {
     "data": {
      "text/plain": [
       "(-100, 120000)"
      ]
     },
     "execution_count": 61,
     "metadata": {},
     "output_type": "execute_result"
    },
    {
     "data": {
      "image/png": "[encoded data removed]",
      "text/plain": [
       "<Figure size 432x288 with 1 Axes>"
      ]
     },
     "metadata": {
      "needs_background": "light"
     },
     "output_type": "display_data"
    }
   ],
   "source": [
    "# Create scatter plot\n",
    "ax = recent_grads.plot(x='Sample_size', y='Median', kind='scatter')\n",
    "ax.set_title('Median vs. Sample_size')\n",
    "ax.set_xlim(-100, 5000)\n",
    "ax.set_ylim(-100, 120000)"
   ]
  },
  {
   "cell_type": "code",
   "execution_count": 62,
   "metadata": {},
   "outputs": [
    {
     "data": {
      "text/plain": [
       "(-0.01, 0.2)"
      ]
     },
     "execution_count": 62,
     "metadata": {},
     "output_type": "execute_result"
    },
    {
     "data": {
      "image/png": "[encoded data removed]",
      "text/plain": [
       "<Figure size 432x288 with 1 Axes>"
      ]
     },
     "metadata": {
      "needs_background": "light"
     },
     "output_type": "display_data"
    }
   ],
   "source": [
    "ax = recent_grads.plot(x='Sample_size', y='Unemployment_rate', kind='scatter')\n",
    "ax.set_title('Unemployment_rate vs. Sample_size')\n",
    "ax.set_xlim(-100, 5000)\n",
    "ax.set_ylim(-0.01, 0.2)"
   ]
  },
  {
   "cell_type": "code",
   "execution_count": 63,
   "metadata": {
    "scrolled": true
   },
   "outputs": [
    {
     "data": {
      "text/plain": [
       "(-1000, 120000)"
      ]
     },
     "execution_count": 63,
     "metadata": {},
     "output_type": "execute_result"
    },
    {
     "data": {
      "image/png": "[encoded data removed]",
      "text/plain": [
       "<Figure size 432x288 with 1 Axes>"
      ]
     },
     "metadata": {
      "needs_background": "light"
     },
     "output_type": "display_data"
    }
   ],
   "source": [
    "ax = recent_grads.plot(x='Full_time', y='Median', kind='scatter')\n",
    "ax.set_title('Median vs. Full_time')\n",
    "ax.set_xlim(-10000, 300000)\n",
    "ax.set_ylim(-1000, 120000)"
   ]
  },
  {
   "cell_type": "code",
   "execution_count": 64,
   "metadata": {},
   "outputs": [
    {
     "data": {
      "text/plain": [
       "(-0.05, 0.2)"
      ]
     },
     "execution_count": 64,
     "metadata": {},
     "output_type": "execute_result"
    },
    {
     "data": {
      "image/png": "[encoded data removed]",
      "text/plain": [
       "<Figure size 432x288 with 1 Axes>"
      ]
     },
     "metadata": {
      "needs_background": "light"
     },
     "output_type": "display_data"
    }
   ],
   "source": [
    "ax = recent_grads.plot(x='ShareWomen', y='Unemployment_rate', kind='scatter')\n",
    "ax.set_title('Unemployment_rate vs. ShareWomen')\n",
    "ax.set_xlim(-0.1, 1.2)\n",
    "ax.set_ylim(-0.05, 0.2)"
   ]
  },
  {
   "cell_type": "code",
   "execution_count": 65,
   "metadata": {},
   "outputs": [
    {
     "data": {
      "text/plain": [
       "(0, 120000)"
      ]
     },
     "execution_count": 65,
     "metadata": {},
     "output_type": "execute_result"
    },
    {
     "data": {
      "image/png": "[encoded data removed]",
      "text/plain": [
       "<Figure size 432x288 with 1 Axes>"
      ]
     },
     "metadata": {
      "needs_background": "light"
     },
     "output_type": "display_data"
    }
   ],
   "source": [
    "ax = recent_grads.plot(x='Men', y='Median', kind='scatter')\n",
    "ax.set_title('Median vs. Men')\n",
    "ax.set_xlim(-10000, 200000)\n",
    "ax.set_ylim(0, 120000)"
   ]
  },
  {
   "cell_type": "code",
   "execution_count": 66,
   "metadata": {
    "scrolled": false
   },
   "outputs": [
    {
     "data": {
      "text/plain": [
       "(0, 120000)"
      ]
     },
     "execution_count": 66,
     "metadata": {},
     "output_type": "execute_result"
    },
    {
     "data": {
      "image/png": "[encoded data removed]",
      "text/plain": [
       "<Figure size 432x288 with 1 Axes>"
      ]
     },
     "metadata": {
      "needs_background": "light"
     },
     "output_type": "display_data"
    }
   ],
   "source": [
    "ax = recent_grads.plot(x='Women', y='Median', kind='scatter')\n",
    "ax.set_title('Median vs. Women')\n",
    "ax.set_xlim(-10000, 350000)\n",
    "ax.set_ylim(0, 120000)"
   ]
  },
  {
   "cell_type": "markdown",
   "metadata": {},
   "source": [
    "The 6 scatter plots are giving us the  answer: That there are no correlation between the variables that each of them show."
   ]
  },
  {
   "cell_type": "markdown",
   "metadata": {},
   "source": [
    "Do students in more popular majors make more money?\n",
    "\n",
    "No grads from popular major seems that they don't make much more money, except some cases with salary adove 60.0004$ \n",
    "\n",
    "Do students that majored in subjects that were majority female make more money?\n",
    "\n",
    "There is no correlation between money and major in subject where majority are females.\n",
    "\n",
    "Is there any link between the number of full-time employees and median salary?\n",
    "\n",
    "It seems that there is some correlation between full-time employess and median salary, but we need to investigate more."
   ]
  },
  {
   "cell_type": "code",
   "execution_count": 67,
   "metadata": {},
   "outputs": [
    {
     "data": {
      "text/plain": [
       "(-10, 120000)"
      ]
     },
     "execution_count": 67,
     "metadata": {},
     "output_type": "execute_result"
    },
    {
     "data": {
      "image/png": "[encoded data removed]",
      "text/plain": [
       "<Figure size 432x288 with 1 Axes>"
      ]
     },
     "metadata": {
      "needs_background": "light"
     },
     "output_type": "display_data"
    }
   ],
   "source": [
    "ax = recent_grads.plot(x='Part_time', y='Median', kind='scatter')\n",
    "ax.set_title('Median vs. Part_time')\n",
    "ax.set_xlim(-10000, 150000)\n",
    "ax.set_ylim(-10, 120000)"
   ]
  },
  {
   "cell_type": "markdown",
   "metadata": {},
   "source": [
    "## What is the most common median salary? What is the unemployment rate? What percentage of grads are females?\n",
    "\n",
    "We will generate histograms in seperate notebook cells to explore the distributions of the following columns:\n",
    "1. Sample_size\n",
    "2. Median\n",
    "3. Employed\n",
    "4. Full_time\n",
    "5. ShareWomen\n",
    "6. Unemployment_rate\n",
    "7. Men\n",
    "8. Women"
   ]
  },
  {
   "cell_type": "code",
   "execution_count": 68,
   "metadata": {},
   "outputs": [
    {
     "data": {
      "text/plain": [
       "<matplotlib.axes._subplots.AxesSubplot at 0x2d32f064308>"
      ]
     },
     "execution_count": 68,
     "metadata": {},
     "output_type": "execute_result"
    },
    {
     "data": {
      "image/png": "[encoded data removed]",
      "text/plain": [
       "<Figure size 432x288 with 1 Axes>"
      ]
     },
     "metadata": {
      "needs_background": "light"
     },
     "output_type": "display_data"
    }
   ],
   "source": [
    "# Create histogram\n",
    "recent_grads['Sample_size'].hist(bins=30, range=(0,5000))"
   ]
  },
  {
   "cell_type": "code",
   "execution_count": 69,
   "metadata": {},
   "outputs": [
    {
     "data": {
      "text/plain": [
       "<matplotlib.axes._subplots.AxesSubplot at 0x2d330802308>"
      ]
     },
     "execution_count": 69,
     "metadata": {},
     "output_type": "execute_result"
    },
    {
     "data": {
      "image/png": "[encoded data removed]",
      "text/plain": [
       "<Figure size 432x288 with 1 Axes>"
      ]
     },
     "metadata": {
      "needs_background": "light"
     },
     "output_type": "display_data"
    }
   ],
   "source": [
    "recent_grads['Median'].hist(bins=30)"
   ]
  },
  {
   "cell_type": "code",
   "execution_count": 70,
   "metadata": {},
   "outputs": [
    {
     "data": {
      "text/plain": [
       "<matplotlib.axes._subplots.AxesSubplot at 0x2d3308b9248>"
      ]
     },
     "execution_count": 70,
     "metadata": {},
     "output_type": "execute_result"
    },
    {
     "data": {
      "image/png": "[encoded data removed]",
      "text/plain": [
       "<Figure size 432x288 with 1 Axes>"
      ]
     },
     "metadata": {
      "needs_background": "light"
     },
     "output_type": "display_data"
    }
   ],
   "source": [
    "recent_grads['Employed'].hist(bins=25, range=(0,5000))"
   ]
  },
  {
   "cell_type": "code",
   "execution_count": 71,
   "metadata": {},
   "outputs": [
    {
     "data": {
      "text/plain": [
       "<matplotlib.axes._subplots.AxesSubplot at 0x2d33096fd48>"
      ]
     },
     "execution_count": 71,
     "metadata": {},
     "output_type": "execute_result"
    },
    {
     "data": {
      "image/png": "[encoded data removed]",
      "text/plain": [
       "<Figure size 432x288 with 1 Axes>"
      ]
     },
     "metadata": {
      "needs_background": "light"
     },
     "output_type": "display_data"
    }
   ],
   "source": [
    "recent_grads['Full_time'].hist(bins=40)"
   ]
  },
  {
   "cell_type": "code",
   "execution_count": 72,
   "metadata": {},
   "outputs": [
    {
     "data": {
      "text/plain": [
       "<matplotlib.axes._subplots.AxesSubplot at 0x2d32e523f08>"
      ]
     },
     "execution_count": 72,
     "metadata": {},
     "output_type": "execute_result"
    },
    {
     "data": {
      "image/png": "[encoded data removed]",
      "text/plain": [
       "<Figure size 432x288 with 1 Axes>"
      ]
     },
     "metadata": {
      "needs_background": "light"
     },
     "output_type": "display_data"
    }
   ],
   "source": [
    "recent_grads['ShareWomen'].hist(bins=20)"
   ]
  },
  {
   "cell_type": "code",
   "execution_count": 73,
   "metadata": {},
   "outputs": [
    {
     "data": {
      "text/plain": [
       "<matplotlib.axes._subplots.AxesSubplot at 0x2d330af9608>"
      ]
     },
     "execution_count": 73,
     "metadata": {},
     "output_type": "execute_result"
    },
    {
     "data": {
      "image/png": "[encoded data removed]",
      "text/plain": [
       "<Figure size 432x288 with 1 Axes>"
      ]
     },
     "metadata": {
      "needs_background": "light"
     },
     "output_type": "display_data"
    }
   ],
   "source": [
    "recent_grads['Unemployment_rate'].hist(bins=30)"
   ]
  },
  {
   "cell_type": "code",
   "execution_count": 74,
   "metadata": {},
   "outputs": [
    {
     "data": {
      "text/plain": [
       "<matplotlib.axes._subplots.AxesSubplot at 0x2d330b9e188>"
      ]
     },
     "execution_count": 74,
     "metadata": {},
     "output_type": "execute_result"
    },
    {
     "data": {
      "image/png": "[encoded data removed]",
      "text/plain": [
       "<Figure size 432x288 with 1 Axes>"
      ]
     },
     "metadata": {
      "needs_background": "light"
     },
     "output_type": "display_data"
    }
   ],
   "source": [
    "recent_grads['Men'].hist(bins=20)"
   ]
  },
  {
   "cell_type": "code",
   "execution_count": 75,
   "metadata": {
    "scrolled": true
   },
   "outputs": [
    {
     "data": {
      "text/plain": [
       "<matplotlib.axes._subplots.AxesSubplot at 0x2d32d3e9e88>"
      ]
     },
     "execution_count": 75,
     "metadata": {},
     "output_type": "execute_result"
    },
    {
     "data": {
      "image/png": "[encoded data removed]",
      "text/plain": [
       "<Figure size 432x288 with 1 Axes>"
      ]
     },
     "metadata": {
      "needs_background": "light"
     },
     "output_type": "display_data"
    }
   ],
   "source": [
    "recent_grads['Women'].hist(bins=30)"
   ]
  },
  {
   "cell_type": "markdown",
   "metadata": {},
   "source": [
    "From the charts above we can extract some findings:\n",
    "1. The most common median salary is between 30.000-40.000. A few people are getting paid above 65.000$.\n",
    "2. The unemployment rate is between 5%-7%\n",
    "3. 60%-80% of the grads are females."
   ]
  },
  {
   "cell_type": "markdown",
   "metadata": {},
   "source": [
    "##  How many majors are predominantly male? Predominantly female?"
   ]
  },
  {
   "cell_type": "code",
   "execution_count": 76,
   "metadata": {},
   "outputs": [
    {
     "data": {
      "text/plain": [
       "<matplotlib.axes._subplots.AxesSubplot at 0x2d3306a9988>"
      ]
     },
     "execution_count": 76,
     "metadata": {},
     "output_type": "execute_result"
    },
    {
     "data": {
      "image/png": "[encoded data removed]",
      "text/plain": [
       "<Figure size 432x288 with 1 Axes>"
      ]
     },
     "metadata": {
      "needs_background": "light"
     },
     "output_type": "display_data"
    },
    {
     "data": {
      "image/png": "[encoded data removed]",
      "text/plain": [
       "<Figure size 432x288 with 1 Axes>"
      ]
     },
     "metadata": {
      "needs_background": "light"
     },
     "output_type": "display_data"
    }
   ],
   "source": [
    "recent_grads[:10].plot.bar(x='Major', y='ShareWomen', legend=False)\n",
    "recent_grads[163:].plot.bar(x='Major', y='ShareWomen', legend=False)"
   ]
  },
  {
   "cell_type": "code",
   "execution_count": 77,
   "metadata": {},
   "outputs": [
    {
     "data": {
      "text/html": [
       "<div>\n",
       "<style scoped>\n",
       "    .dataframe tbody tr th:only-of-type {\n",
       "        vertical-align: middle;\n",
       "    }\n",
       "\n",
       "    .dataframe tbody tr th {\n",
       "        vertical-align: top;\n",
       "    }\n",
       "\n",
       "    .dataframe thead th {\n",
       "        text-align: right;\n",
       "    }\n",
       "</style>\n",
       "<table border=\"1\" class=\"dataframe\">\n",
       "  <thead>\n",
       "    <tr style=\"text-align: right;\">\n",
       "      <th></th>\n",
       "      <th>Major_category</th>\n",
       "      <th>Men</th>\n",
       "      <th>Women</th>\n",
       "    </tr>\n",
       "  </thead>\n",
       "  <tbody>\n",
       "    <tr>\n",
       "      <th>0</th>\n",
       "      <td>Engineering</td>\n",
       "      <td>408307.0</td>\n",
       "      <td>129276.0</td>\n",
       "    </tr>\n",
       "    <tr>\n",
       "      <th>1</th>\n",
       "      <td>Business</td>\n",
       "      <td>667852.0</td>\n",
       "      <td>634524.0</td>\n",
       "    </tr>\n",
       "    <tr>\n",
       "      <th>2</th>\n",
       "      <td>Physical Sciences</td>\n",
       "      <td>94862.0</td>\n",
       "      <td>88501.0</td>\n",
       "    </tr>\n",
       "    <tr>\n",
       "      <th>3</th>\n",
       "      <td>Law &amp; Public Policy</td>\n",
       "      <td>91129.0</td>\n",
       "      <td>87978.0</td>\n",
       "    </tr>\n",
       "    <tr>\n",
       "      <th>4</th>\n",
       "      <td>Computers &amp; Mathematics</td>\n",
       "      <td>208725.0</td>\n",
       "      <td>90283.0</td>\n",
       "    </tr>\n",
       "    <tr>\n",
       "      <th>5</th>\n",
       "      <td>Industrial Arts &amp; Consumer Services</td>\n",
       "      <td>101912.0</td>\n",
       "      <td>125445.0</td>\n",
       "    </tr>\n",
       "    <tr>\n",
       "      <th>6</th>\n",
       "      <td>Arts</td>\n",
       "      <td>134390.0</td>\n",
       "      <td>222740.0</td>\n",
       "    </tr>\n",
       "    <tr>\n",
       "      <th>7</th>\n",
       "      <td>Health</td>\n",
       "      <td>75517.0</td>\n",
       "      <td>387713.0</td>\n",
       "    </tr>\n",
       "    <tr>\n",
       "      <th>8</th>\n",
       "      <td>Social Science</td>\n",
       "      <td>256834.0</td>\n",
       "      <td>273132.0</td>\n",
       "    </tr>\n",
       "    <tr>\n",
       "      <th>9</th>\n",
       "      <td>Biology &amp; Life Science</td>\n",
       "      <td>184919.0</td>\n",
       "      <td>268943.0</td>\n",
       "    </tr>\n",
       "    <tr>\n",
       "      <th>10</th>\n",
       "      <td>Education</td>\n",
       "      <td>103526.0</td>\n",
       "      <td>455603.0</td>\n",
       "    </tr>\n",
       "    <tr>\n",
       "      <th>11</th>\n",
       "      <td>Agriculture &amp; Natural Resources</td>\n",
       "      <td>40357.0</td>\n",
       "      <td>35263.0</td>\n",
       "    </tr>\n",
       "    <tr>\n",
       "      <th>12</th>\n",
       "      <td>Humanities &amp; Liberal Arts</td>\n",
       "      <td>272846.0</td>\n",
       "      <td>440622.0</td>\n",
       "    </tr>\n",
       "    <tr>\n",
       "      <th>13</th>\n",
       "      <td>Psychology &amp; Social Work</td>\n",
       "      <td>98115.0</td>\n",
       "      <td>382892.0</td>\n",
       "    </tr>\n",
       "    <tr>\n",
       "      <th>14</th>\n",
       "      <td>Communications &amp; Journalism</td>\n",
       "      <td>131921.0</td>\n",
       "      <td>260680.0</td>\n",
       "    </tr>\n",
       "    <tr>\n",
       "      <th>15</th>\n",
       "      <td>Interdisciplinary</td>\n",
       "      <td>2817.0</td>\n",
       "      <td>9479.0</td>\n",
       "    </tr>\n",
       "  </tbody>\n",
       "</table>\n",
       "</div>"
      ],
      "text/plain": [
       "                         Major_category       Men     Women\n",
       "0                           Engineering  408307.0  129276.0\n",
       "1                              Business  667852.0  634524.0\n",
       "2                     Physical Sciences   94862.0   88501.0\n",
       "3                   Law & Public Policy   91129.0   87978.0\n",
       "4               Computers & Mathematics  208725.0   90283.0\n",
       "5   Industrial Arts & Consumer Services  101912.0  125445.0\n",
       "6                                  Arts  134390.0  222740.0\n",
       "7                                Health   75517.0  387713.0\n",
       "8                        Social Science  256834.0  273132.0\n",
       "9                Biology & Life Science  184919.0  268943.0\n",
       "10                            Education  103526.0  455603.0\n",
       "11      Agriculture & Natural Resources   40357.0   35263.0\n",
       "12            Humanities & Liberal Arts  272846.0  440622.0\n",
       "13             Psychology & Social Work   98115.0  382892.0\n",
       "14          Communications & Journalism  131921.0  260680.0\n",
       "15                    Interdisciplinary    2817.0    9479.0"
      ]
     },
     "execution_count": 77,
     "metadata": {},
     "output_type": "execute_result"
    }
   ],
   "source": [
    "# Create the data frame,counting how many grads are men or women in each major category\n",
    "grouped = recent_grads['Major_category'].unique()\n",
    "major_Men_Women = []\n",
    "for i in grouped:\n",
    "    sum_men = recent_grads.loc[recent_grads['Major_category'] == i, 'Men'].sum()\n",
    "    sum_women = recent_grads.loc[recent_grads['Major_category'] == i, 'Women'].sum()\n",
    "    i = (i, sum_men, sum_women)\n",
    "    major_Men_Women.append(i)\n",
    "major_Men_Women = pd.DataFrame(major_Men_Women, columns = ['Major_category', 'Men', 'Women'])\n",
    "major_Men_Women"
   ]
  },
  {
   "cell_type": "code",
   "execution_count": 78,
   "metadata": {},
   "outputs": [
    {
     "data": {
      "text/plain": [
       "<matplotlib.axes._subplots.AxesSubplot at 0x2d33064e1c8>"
      ]
     },
     "execution_count": 78,
     "metadata": {},
     "output_type": "execute_result"
    },
    {
     "data": {
      "image/png": "[encoded data removed]",
      "text/plain": [
       "<Figure size 432x288 with 1 Axes>"
      ]
     },
     "metadata": {
      "needs_background": "light"
     },
     "output_type": "display_data"
    }
   ],
   "source": [
    "major_Men_Women.plot(kind='bar', x=\"Major_category\")"
   ]
  },
  {
   "cell_type": "markdown",
   "metadata": {},
   "source": [
    "As we can see in some majors areas the grads are equal women and men like Physical sceinces, Business etc. While in some others women are graduating more than men like Humanities and Liberal arts or Comunications and Junrnalism. And in Enginnering and Computers and Mathematics men grads are almost the double of the  women."
   ]
  },
  {
   "cell_type": "code",
   "execution_count": 79,
   "metadata": {
    "scrolled": true
   },
   "outputs": [
    {
     "data": {
      "image/png": "[encoded data removed]",
      "text/plain": [
       "<Figure size 432x288 with 1 Axes>"
      ]
     },
     "metadata": {
      "needs_background": "light"
     },
     "output_type": "display_data"
    }
   ],
   "source": [
    "fix, ax = plt.subplots()\n",
    "ax.boxplot(recent_grads['Median'])\n",
    "ax.set_ylim(0,120000)\n",
    "ax.set_xticklabels(['Median Salary'])\n",
    "plt.show()"
   ]
  },
  {
   "cell_type": "markdown",
   "metadata": {},
   "source": [
    "First we can see the minimun is around 20.000$. The lowest 25% is between 20.000US-35.000US. The top 25% paid around 40000US- 60.000US. Also we can notice some outliers with range from around 60.000% and above. "
   ]
  },
  {
   "cell_type": "code",
   "execution_count": 80,
   "metadata": {},
   "outputs": [
    {
     "data": {
      "image/png": "[encoded data removed]",
      "text/plain": [
       "<Figure size 432x288 with 1 Axes>"
      ]
     },
     "metadata": {
      "needs_background": "light"
     },
     "output_type": "display_data"
    }
   ],
   "source": [
    "fix, ax = plt.subplots()\n",
    "ax.boxplot(recent_grads['Unemployment_rate'])\n",
    "ax.set_ylim(-0.05,0.3)\n",
    "ax.set_xticklabels(['Unemployment_rate'])\n",
    "plt.show()"
   ]
  },
  {
   "cell_type": "markdown",
   "metadata": {},
   "source": [
    "Of course the minimum unemployment rate is 0. The lowest 25% of unemployment is between 0-5%\n",
    "The median as we can see is a just above 5%. While the top 25% of unemployment is from around 10% to 13%. We can see also here some outliers reaching out 15% to 20% unemployment."
   ]
  },
  {
   "cell_type": "markdown",
   "metadata": {},
   "source": [
    "<a id='r'></a>\n",
    "# 5. Results\n",
    "\n",
    "From the charts we have found the following:\n",
    "\n",
    "1. No grads from popular major seems that they don't make much more money, except for some cases with a salary above 60.000$ \n",
    "\n",
    "2. There is no correlation between money and major in a subject where the majority are females.\n",
    "\n",
    "3. It seems that there is some correlation between full-time employees and median salary, but we need to investigate more.\n",
    "\n",
    "4. The most common median salary is between 30.000-40.000. A few people are getting paid above 65.000$.\n",
    "\n",
    "5. The unemployment rate is between 5%-7%\n",
    "\n",
    "6. 60%-80% of the grads are females.\n",
    "\n",
    "7. As we can see in some majors areas the grads are equal women and men like Physical sciences, Business etc. While in some others women are graduating more than men like Humanities and Liberal arts or Communications and Journalism. And in Engineering and Computers and Mathematics men grads are almost the double of the women."
   ]
  },
  {
   "cell_type": "code",
   "execution_count": null,
   "metadata": {},
   "outputs": [],
   "source": []
  }
 ],
 "metadata": {
  "kernelspec": {
   "display_name": "Python 3",
   "language": "python",
   "name": "python3"
  },
  "language_info": {
   "codemirror_mode": {
    "name": "ipython",
    "version": 3
   },
   "file_extension": ".py",
   "mimetype": "text/x-python",
   "name": "python",
   "nbconvert_exporter": "python",
   "pygments_lexer": "ipython3",
   "version": "3.7.7"
  }
 },
 "nbformat": 4,
 "nbformat_minor": 1
}
